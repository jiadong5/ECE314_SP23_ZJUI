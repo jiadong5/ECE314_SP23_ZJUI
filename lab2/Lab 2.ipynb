{
 "cells": [
  {
   "cell_type": "markdown",
   "metadata": {},
   "source": [
    "# Lab 2: Histograms, law of large numbers, simulating simple games"
   ]
  },
  {
   "cell_type": "markdown",
   "metadata": {},
   "source": [
    "Please begin by running the code in the following cell to import the packages that are used in this notebook."
   ]
  },
  {
   "cell_type": "code",
   "execution_count": 1,
   "metadata": {},
   "outputs": [
    {
     "name": "stdout",
     "output_type": "stream",
     "text": [
      "Modules Imported!\n"
     ]
    }
   ],
   "source": [
    "%matplotlib inline\n",
    "import matplotlib.pyplot as plt\n",
    "import numpy as np\n",
    "import scipy as sp\n",
    "import scipy.stats as st\n",
    "print (\"Modules Imported!\")"
   ]
  },
  {
   "cell_type": "markdown",
   "metadata": {},
   "source": [
    "## Plotting a Histogram:"
   ]
  },
  {
   "cell_type": "markdown",
   "metadata": {},
   "source": [
    "A histogram is a graphical representation of a distribution. It shows the frequency at which values occur. Suppose a probability class has 400 students in it. We can simulate random tests scores (with an average of 70) and plot a histogram. The np.random.rand() function returns a number between 0 and 1. It is from a continuous uniform distribution on this interval. It means that for any $c$ between 0 and 1, the probability the sample number is less than or equal to $c$ is equal to $c.$"
   ]
  },
  {
   "cell_type": "code",
   "execution_count": 2,
   "metadata": {},
   "outputs": [
    {
     "data": {
      "text/plain": [
       "Text(0, 0.5, 'Number of Students')"
      ]
     },
     "execution_count": 2,
     "metadata": {},
     "output_type": "execute_result"
    },
    {
     "data": {
      "image/png": "[encoded data removed]",
      "text/plain": [
       "<Figure size 432x288 with 1 Axes>"
      ]
     },
     "metadata": {
      "needs_background": "light"
     },
     "output_type": "display_data"
    }
   ],
   "source": [
    "x = np.zeros(400) #Generates an initial array with 400 students\n",
    "for i in range(400): #Loops through each of the students\n",
    "    x[i] = (int)(25*(np.random.rand()-np.random.rand())+70) #Generates a random test score for that student\n",
    "plt.hist(x,bins=int(np.max(x)-np.min(x))) #Plots a Histogram in range of all valid test scores\n",
    "plt.title(\"Histogram of Test Scores\")\n",
    "plt.xlabel('Test Score')\n",
    "plt.ylabel('Number of Students')"
   ]
  },
  {
   "cell_type": "markdown",
   "metadata": {},
   "source": [
    "For simulation purposes, it is useful to be able to get a value after a single trial of an RV based on a certain distribution. These are called random variates. From the stats module we've used, you simply need to call the rvs function with a size as an input. NumPy also has an easy way to do this through the random module. When you run the code below, you should see two histograms from the same normal distributions. "
   ]
  },
  {
   "cell_type": "code",
   "execution_count": 3,
   "metadata": {},
   "outputs": [
    {
     "data": {
      "text/plain": [
       "Text(0.5, 1.0, 'Histogram of NumPy Normal Distribution')"
      ]
     },
     "execution_count": 3,
     "metadata": {},
     "output_type": "execute_result"
    },
    {
     "data": {
      "image/png": "[encoded data removed]",
      "text/plain": [
       "<Figure size 432x288 with 1 Axes>"
      ]
     },
     "metadata": {
      "needs_background": "light"
     },
     "output_type": "display_data"
    },
    {
     "data": {
      "image/png": "[encoded data removed]",
      "text/plain": [
       "<Figure size 432x288 with 1 Axes>"
      ]
     },
     "metadata": {
      "needs_background": "light"
     },
     "output_type": "display_data"
    }
   ],
   "source": [
    "#Simulates a Gaussian RV 100 times in two different ways and creates a histogram\n",
    "\n",
    "X = st.norm()\n",
    "#np.random.seed(100)\n",
    "x = X.rvs(size = 100) #Generates a vector with the results of 100 outputs or trials based on the standard Gaussian distribution\n",
    "#np.random.seed(100)\n",
    "y = np.random.normal(size = 100) #Generates a vector with the results of 100 outputs based on the standard Gaussian distribution\n",
    "plt.hist(x); #Creates a histogram of those results, the default value for the number of bins is bins=10\n",
    "plt.title('Histogram of SciPy.Stats Normal Distribution')\n",
    "plt.figure()\n",
    "plt.hist(y);\n",
    "plt.title('Histogram of NumPy Normal Distribution')"
   ]
  },
  {
   "cell_type": "markdown",
   "metadata": {},
   "source": [
    "The scipy and numpy methods for getting these variates should produce the same results, but the two histograms are different. This is due to the random number generator. If we seed the random number generator before running the methods, they should produce consistent results. In the code there are two commented lines with np.random.seed(100). Uncomment these, and run the code again. You should see the histograms are the same now. Essentially, seeding the random number generator, tells it where to start in it's sequence."
   ]
  },
  {
   "cell_type": "markdown",
   "metadata": {},
   "source": [
    "**<SPAN style=\"BACKGROUND-COLOR: #C0C0C0\">Problem 1:</SPAN>** Using the custom discrete variable you made for a roll of the die in Lab 1, or some other method (include a text cell or a comment in the code to explain your method): \n",
    "\n",
    "1. Simulate 100 rolls using the .rvs() method in the stats module. Plot a histogram of the results. Is it what you would expect?\n",
    "2. Now simulate 10,000 rolls of the die and again plot a histogram. Observe any difference and explain your observation. "
   ]
  },
  {
   "cell_type": "code",
   "execution_count": null,
   "metadata": {},
   "outputs": [],
   "source": [
    "# Your code here"
   ]
  },
  {
   "cell_type": "markdown",
   "metadata": {},
   "source": [
    "__Answer:__ (Your answer here)"
   ]
  },
  {
   "cell_type": "markdown",
   "metadata": {},
   "source": [
    "**<SPAN style=\"BACKGROUND-COLOR: #C0C0C0\">End of Problem 1</SPAN>**"
   ]
  },
  {
   "cell_type": "markdown",
   "metadata": {},
   "source": [
    "## The Law of Large Numbers:"
   ]
  },
  {
   "cell_type": "markdown",
   "metadata": {},
   "source": [
    "The law of large numbers describes the result of performing the same experiment a large number of times. Let $X_1,X_2, \\ldots ,X_n$ be a set of uncorrelated random variables, each with a finite mean of $\\mu$. Let $S_n$ represent the sum of these random variables: $S_n=X_1+X_2+...+X_n$. The law of large numbers states that $P\\left\\{\\Big|\\frac{S_n}{n}-\\mu\\Big|\\ge\\delta\\right\\}\\le\\frac{C}{n\\delta^2}\\to0$ as $n\\to\\infty$. Put another way this simply states that the sum of the RVs divided by n converges in some sense to the mean ($\\frac{S_n}{n}\\to\\mu$). A proof of this is given in the ECE 313 textbook, using a bounded variance assumption and the Chebychev inequality.\n",
    "\n",
    "To observe this behavior by simulation, let's look at the Poisson distribution. A Poisson RV has a single parameter $\\lambda$ which represents the mean number of occurances or counts, such as the mean number of hits your Youtube video gets in a day.  Then the probability that your video gets $i$ hits in one day is given by the pmf: $p(i)=\\frac{\\lambda^ie^{-\\lambda}}{i!}$. So what if you totalled the number of hits you received each day for a week, month, or year and divided by that many days? The law of large numbers asserts that as $n$ gets large this should go to the mean $\\lambda$. Below, we create a Poisson distribution where $\\lambda=5$ hits per day. We retrieve a random variate each day and model the law of large numbers over time. Try running the cell multiple times and see how much variation there is for different runs."
   ]
  },
  {
   "cell_type": "code",
   "execution_count": null,
   "metadata": {},
   "outputs": [],
   "source": [
    "lamb = 5. #Our rate of hits per day\n",
    "N = 7 #Number of days we are going to simulate over\n",
    "x = [st.poisson.rvs(lamb)]    #Gets the number of hits on the first day and stores it in a vector\n",
    "y = [np.random.poisson(lamb)] #Same using numpy instead of scipy.stats\n",
    "Sx = [0] #Sx will represent cumulative sums of the random variates at different times\n",
    "Sy = [0] \n",
    "Ax = [0.0] #Ax will be an array of averages, Sx/n, at different times\n",
    "Ay = [0.0]\n",
    "\n",
    "for n in range(1,N+1): #Simulates over N days\n",
    "    x.append(st.poisson.rvs(lamb)) #Appends the number of hits of the next day to the vector\n",
    "    y.append(np.random.poisson(lamb))\n",
    "    Sx.append(Sx[n-1]+x[n]) #Appends the sum at n to the vector\n",
    "    Sy.append(Sy[n-1]+y[n])\n",
    "    Ax.append(Sx[n]/(1.*n)) #Appends the sum over n to the vector\n",
    "    Ay.append(Sy[n]/(1.*n))\n",
    "\n",
    "n = np.linspace(0,N,N+1) #Generates an array of N+1 points from 0 to N for graphing purposes\n",
    "\n",
    "plt.plot(Sx, label = 'Total # of Hits X') #Plots the total number of hits\n",
    "plt.plot(Sy, label = 'Total # of Hits Y')\n",
    "plt.plot(n, lamb*n, label = 'lambda*n') #Plots a line based on the rate given\n",
    "plt.title('Cumulative number of hits')\n",
    "plt.ylabel('Number of hits')\n",
    "plt.xlabel('Number of days')\n",
    "plt.legend()\n",
    "\n",
    "plt.figure() #Creates a new figure\n",
    "plt.plot(Ax, label = 'S_x/n') #Plots the average number of hits\n",
    "plt.plot(Ay, label = 'S_y/n')\n",
    "plt.plot(lamb*np.ones(N+1), label = 'rate lambda') #Plots the expected average\n",
    "plt.title('Running average number of hits per day')\n",
    "plt.ylabel('Running average number of hits per day')\n",
    "plt.xlabel('Number of days')\n",
    "plt.legend()"
   ]
  },
  {
   "cell_type": "markdown",
   "metadata": {},
   "source": [
    "You can play with the above code. Change $\\lambda$ or change the number of days we simulate over. You should see that $\\frac{S_n}{n}\\to\\lambda$ as the number of days, $n$, increases. \n",
    "<br><br>**<SPAN style=\"BACKGROUND-COLOR: #C0C0C0\">Problem 2:</SPAN>** Using your discrete die rolling RV, once again simulate 10000 rolls of the die. \n",
    "\n",
    "1. Show graphically that the law of large numbers is maintained for the average of the numbers of the first $n$ rolls as $n\\rightarrow\\infty.$ \n",
    "2. What would be a rough approximation of the sum? Of the average?  \n",
    "\n",
    "(Note: There is no parameter $\\lambda$ associated with the roll of a die.  But the mean value of a roll plays the same role.)"
   ]
  },
  {
   "cell_type": "code",
   "execution_count": null,
   "metadata": {},
   "outputs": [],
   "source": [
    "# Your code here"
   ]
  },
  {
   "cell_type": "markdown",
   "metadata": {},
   "source": [
    "__Answer:__ (Your answer here)"
   ]
  },
  {
   "cell_type": "markdown",
   "metadata": {},
   "source": [
    "**<SPAN style=\"BACKGROUND-COLOR: #C0C0C0\">End of Problem 2</SPAN>**"
   ]
  },
  {
   "cell_type": "markdown",
   "metadata": {},
   "source": [
    "## Additional Lab Questions:"
   ]
  },
  {
   "cell_type": "markdown",
   "metadata": {},
   "source": [
    "**For the completeion of this lab, make sure to do questions 1-2 as well as these two additional questions:**\n",
    "<br><br>**<SPAN style=\"BACKGROUND-COLOR: #C0C0C0\">Problem 3:</SPAN>** If you thought you could get out of your first probability lab without some questions on poker hands, I'm sorry, but they're too good to pass up. Suppose you draw five cards from a standard 52 card deck.\n",
    "<ol><li>Calculate the probabilities of getting a TWO PAIR, THREE OF A KIND, FULLHOUSE, and a FLUSH; print out these probabilities. You need to write down your calculation process, either in a markdown or code cell, not just the result probabilities. (Note: FLUSHes include straight/royal FLUSHes) </li> \n",
    "<li>Simulate 1,000,000 poker hands, count the number of times you get for each of the above hands and find the empirical probability of getting each of the above hands.  Your simulated hands\n",
    "should include all possible poker hands. (Hint: One way to represent a random poker hand is to use a 4 by 13 binary array with ones placed at five randomly chosen locations.  The np.sum command can be used to compute row or column sums. If you don't know how to generate random integers in Python, Google is a good source for help.)</li>\n",
    "<li>Do the probabilities match up relatively well?</li>\n",
    "</ol>\n",
    "\n",
    "(For most lab questions in ECE314, you will be graded based on the correctness of your answers, regardless of how you code. However, for part 2 of this problem, you may lose a few points for very inefficient code, e.g. with a lot of for loops and unecessary if structures. As a general guideline, if your program can run in one minute (for 1,000,000 hands), it should be sufficiently efficient, although this is not a hard requirement). "
   ]
  },
  {
   "cell_type": "code",
   "execution_count": null,
   "metadata": {},
   "outputs": [],
   "source": [
    "# Your code here (add addtitional code/markdown cells if needed)"
   ]
  },
  {
   "cell_type": "markdown",
   "metadata": {},
   "source": [
    "__Answer:__ (Your answer here)"
   ]
  },
  {
   "cell_type": "markdown",
   "metadata": {},
   "source": [
    "**<SPAN style=\"BACKGROUND-COLOR: #C0C0C0\">End of Problem 3</SPAN>**"
   ]
  },
  {
   "cell_type": "markdown",
   "metadata": {},
   "source": [
    "**<SPAN style=\"BACKGROUND-COLOR: #C0C0C0\">Problem 4:</SPAN>** A classic problem when being introduced to probability is the Monty Hall problem. If you've ever seen \"Let's Make a Deal\" on television, this problem takes from that show. You're the contestant. The host of the show gives you three doors to choose from. One door chosen at random holds a grand prize and the other two hold worthless items. You choose your door, and then the host reveals one of the doors you didn't choose such that it always holds a worthless item.  (If you initially choose the door with the grand prize, the host reveals either of the other doors with equal probability.) So now there are two doors left and the host asks you whether you would like to switch. What should you do?\n",
    "<ol><li>Write down your first reaction? Would you switch doors or keep the one you have? Why?</li>\n",
    "    <li>Create this scenario and simulate the strategy of sticking with the same door 1,000,000 times. What percentage of time did you win?</li>\n",
    "    <li>Simulate the strategy of switching doors 1,000,000 times. What percentage of time did you win?</li>\n",
    "    <li>Which strategy would you use now? Explain why this is the case.</li>\n",
    "</ol>\n",
    "\n",
    "In the simulation, you can simulate every step that happens in the actual game and exactly as it happens, even for very trivial steps. You can also clever-guess some parts and skip some trivial steps; if you do that, make sure you briefly reason about why you do so in comments, so that the graders know that you understand what actually happens in the game. There is no timing requirement for this problem.  "
   ]
  },
  {
   "cell_type": "markdown",
   "metadata": {},
   "source": [
    "__Answer of Part 1:__ (Your answer here)"
   ]
  },
  {
   "cell_type": "code",
   "execution_count": null,
   "metadata": {},
   "outputs": [],
   "source": [
    "# Your code here (add addtitional code/markdown cells if needed)"
   ]
  },
  {
   "cell_type": "markdown",
   "metadata": {},
   "source": [
    "__Answer of Part 4:__ (Your answer here)"
   ]
  },
  {
   "cell_type": "markdown",
   "metadata": {},
   "source": [
    "**<SPAN style=\"BACKGROUND-COLOR: #C0C0C0\">End of Problem 4</SPAN>**"
   ]
  },
  {
   "cell_type": "markdown",
   "metadata": {},
   "source": [
    "<div class=\"alert alert-block alert-warning\"> \n",
    "## Academic Integrity Statement ##\n",
    "\n",
    "By submitting the lab with this statement, you declare you have written up the lab entirely by yourself, including both code and markdown cells. You also agree that you should not share your code with anyone else. Any violation of the academic integrity requirement may cause an academic integrity report to be filed that could go into your student record. See <a href=\"https://provost.illinois.edu/policies/policies/academic-integrity/students-quick-reference-guide-to-academic-integrity/\">Students' Quick Reference Guide to Academic Integrity</a> for more information. "
   ]
  }
 ],
 "metadata": {
  "anaconda-cloud": {},
  "kernelspec": {
   "display_name": "Python 3",
   "language": "python",
   "name": "python3"
  },
  "language_info": {
   "codemirror_mode": {
    "name": "ipython",
    "version": 3
   },
   "file_extension": ".py",
   "mimetype": "text/x-python",
   "name": "python",
   "nbconvert_exporter": "python",
   "pygments_lexer": "ipython3",
   "version": "3.8.8"
  }
 },
 "nbformat": 4,
 "nbformat_minor": 1
}
